{
  "nbformat": 4,
  "nbformat_minor": 0,
  "metadata": {
    "colab": {
      "name": "XGBoost_Customer_Churn.ipynb",
      "provenance": [],
      "collapsed_sections": [],
      "toc_visible": true,
      "authorship_tag": "ABX9TyP6zz5QulWaYB00GG8PEhzq"
    },
    "kernelspec": {
      "name": "python3",
      "display_name": "Python 3"
    }
  },
  "cells": [
    {
      "cell_type": "markdown",
      "metadata": {
        "id": "CanViXYIRBG4",
        "colab_type": "text"
      },
      "source": [
        "## Predicting Customer Churn\n",
        "Customer churn is a key metric which are used by services based providers to predict which customers are not likely to continue with their service. In this excercise, we will acquire a public dataset provided by a Cell Phone Service Provider. This dataset contains the target variable \"Churn\" with binary values \"Y\" or \"N\" indicating if a customer is churn. <br>\n",
        "###Reference and modifications\n",
        "This excercise is based on the example of AWS sagemaker - Customer churn. We will use the dataset and data cleansing methods from that workbook. The change we are going to incorporate is that we will leverage XGBoost implementation.\n",
        "\n",
        "\n"
      ]
    },
    {
      "cell_type": "markdown",
      "metadata": {
        "id": "az9iOHHWRXsx",
        "colab_type": "text"
      },
      "source": [
        "### Loading python libraries\n",
        "Here we will load, pandas, numpy, XGboost(Python libararies) and other plotting libraries"
      ]
    },
    {
      "cell_type": "code",
      "metadata": {
        "id": "ijqgOlQDRvH-",
        "colab_type": "code",
        "colab": {}
      },
      "source": [
        "import pandas as pd\n",
        "import numpy as np\n",
        "import matplotlib.pyplot as plt\n",
        "import xgboost as xgb\n",
        "import graphviz\n"
      ],
      "execution_count": 1,
      "outputs": []
    },
    {
      "cell_type": "markdown",
      "metadata": {
        "id": "k0Ji_w3NSKUI",
        "colab_type": "text"
      },
      "source": [
        "### Loading the dataset. \n",
        "For this excercise, i have to downloaded data locally to my PC, and loaded into pandas dataframe.\n",
        "But its publicly available here http://dataminingconsultant.com/DKD2e_data_sets.zip"
      ]
    },
    {
      "cell_type": "code",
      "metadata": {
        "id": "t-LpavxIzzjZ",
        "colab_type": "code",
        "colab": {}
      },
      "source": [
        "churn = pd.read_csv('./churn.txt')"
      ],
      "execution_count": 3,
      "outputs": []
    },
    {
      "cell_type": "markdown",
      "metadata": {
        "id": "GhEO-ElSSdxo",
        "colab_type": "text"
      },
      "source": [
        "### Reviewing the data set\n",
        "1.   Checking the features and datatypes\n",
        "2.   Creating two dataframes for Numerical & Categorical Features.\n",
        "1.   Performing Dependency Analysis of features with targer variable\n",
        "\n",
        "\n",
        "\n",
        "\n",
        "\n"
      ]
    },
    {
      "cell_type": "code",
      "metadata": {
        "id": "wEinDTQ60EK6",
        "colab_type": "code",
        "colab": {
          "base_uri": "https://localhost:8080/",
          "height": 391
        },
        "outputId": "5065d475-ff75-4d7e-f790-c3e3b1242451"
      },
      "source": [
        "churn.dtypes"
      ],
      "execution_count": 4,
      "outputs": [
        {
          "output_type": "execute_result",
          "data": {
            "text/plain": [
              "State              object\n",
              "Account Length      int64\n",
              "Area Code           int64\n",
              "Phone              object\n",
              "Int'l Plan         object\n",
              "VMail Plan         object\n",
              "VMail Message       int64\n",
              "Day Mins          float64\n",
              "Day Calls           int64\n",
              "Day Charge        float64\n",
              "Eve Mins          float64\n",
              "Eve Calls           int64\n",
              "Eve Charge        float64\n",
              "Night Mins        float64\n",
              "Night Calls         int64\n",
              "Night Charge      float64\n",
              "Intl Mins         float64\n",
              "Intl Calls          int64\n",
              "Intl Charge       float64\n",
              "CustServ Calls      int64\n",
              "Churn?             object\n",
              "dtype: object"
            ]
          },
          "metadata": {
            "tags": []
          },
          "execution_count": 4
        }
      ]
    },
    {
      "cell_type": "code",
      "metadata": {
        "id": "ZOsop3Ph0Mrz",
        "colab_type": "code",
        "colab": {}
      },
      "source": [
        "churn_categorical = churn.select_dtypes(include=['object'])"
      ],
      "execution_count": 5,
      "outputs": []
    },
    {
      "cell_type": "code",
      "metadata": {
        "id": "lKx8qToO0rNJ",
        "colab_type": "code",
        "colab": {}
      },
      "source": [
        "churn_numeric = churn.select_dtypes(exclude=['object'])"
      ],
      "execution_count": 6,
      "outputs": []
    },
    {
      "cell_type": "markdown",
      "metadata": {
        "id": "KeiEJK85XAAo",
        "colab_type": "text"
      },
      "source": [
        "## Feature Engineering\n",
        "\n",
        "We are going drop to feature (Phone) as this has no dependecy on target variable. <br>\n",
        "From the dataset feature Area code is integer datatype, but wil be converted as object.\n"
      ]
    },
    {
      "cell_type": "code",
      "metadata": {
        "id": "QyK51na-02PD",
        "colab_type": "code",
        "colab": {}
      },
      "source": [
        "churn = churn.drop('Phone', axis=1)"
      ],
      "execution_count": 7,
      "outputs": []
    },
    {
      "cell_type": "code",
      "metadata": {
        "id": "UbkrP8qw09Y8",
        "colab_type": "code",
        "colab": {}
      },
      "source": [
        "churn['Area Code'] = churn['Area Code'].astype(object)"
      ],
      "execution_count": 8,
      "outputs": []
    },
    {
      "cell_type": "markdown",
      "metadata": {
        "id": "HhNxm8HbX8KO",
        "colab_type": "text"
      },
      "source": [
        "### Feature Correlattion\n",
        "1.   For Categorical data types, we will chart observations.\n",
        "2.   For Numerical data types, we will plot histograms\n",
        "\n"
      ]
    },
    {
      "cell_type": "code",
      "metadata": {
        "id": "2nrDsF_Z1DH1",
        "colab_type": "code",
        "colab": {
          "base_uri": "https://localhost:8080/",
          "height": 1000
        },
        "outputId": "e1756486-f296-45a0-c61a-1f2436586f9c"
      },
      "source": [
        "for column in churn.select_dtypes(include=['object']).columns:\n",
        "    if column != 'Churn?':\n",
        "        display(pd.crosstab(index=churn[column], columns=churn['Churn?'], normalize='columns'))\n",
        "\n",
        "        \n",
        "for column in churn.select_dtypes(exclude=['object']).columns:\n",
        "    print(column)\n",
        "    hist = churn[[column, 'Churn?']].hist(by='Churn?', bins=30)\n",
        "    plt.show()"
      ],
      "execution_count": 9,
      "outputs": [
        {
          "output_type": "display_data",
          "data": {
            "text/html": [
              "<div>\n",
              "<style scoped>\n",
              "    .dataframe tbody tr th:only-of-type {\n",
              "        vertical-align: middle;\n",
              "    }\n",
              "\n",
              "    .dataframe tbody tr th {\n",
              "        vertical-align: top;\n",
              "    }\n",
              "\n",
              "    .dataframe thead th {\n",
              "        text-align: right;\n",
              "    }\n",
              "</style>\n",
              "<table border=\"1\" class=\"dataframe\">\n",
              "  <thead>\n",
              "    <tr style=\"text-align: right;\">\n",
              "      <th>Churn?</th>\n",
              "      <th>False.</th>\n",
              "      <th>True.</th>\n",
              "    </tr>\n",
              "    <tr>\n",
              "      <th>State</th>\n",
              "      <th></th>\n",
              "      <th></th>\n",
              "    </tr>\n",
              "  </thead>\n",
              "  <tbody>\n",
              "    <tr>\n",
              "      <th>AK</th>\n",
              "      <td>0.017193</td>\n",
              "      <td>0.006211</td>\n",
              "    </tr>\n",
              "    <tr>\n",
              "      <th>AL</th>\n",
              "      <td>0.025263</td>\n",
              "      <td>0.016563</td>\n",
              "    </tr>\n",
              "    <tr>\n",
              "      <th>AR</th>\n",
              "      <td>0.015439</td>\n",
              "      <td>0.022774</td>\n",
              "    </tr>\n",
              "    <tr>\n",
              "      <th>AZ</th>\n",
              "      <td>0.021053</td>\n",
              "      <td>0.008282</td>\n",
              "    </tr>\n",
              "    <tr>\n",
              "      <th>CA</th>\n",
              "      <td>0.008772</td>\n",
              "      <td>0.018634</td>\n",
              "    </tr>\n",
              "    <tr>\n",
              "      <th>CO</th>\n",
              "      <td>0.020000</td>\n",
              "      <td>0.018634</td>\n",
              "    </tr>\n",
              "    <tr>\n",
              "      <th>CT</th>\n",
              "      <td>0.021754</td>\n",
              "      <td>0.024845</td>\n",
              "    </tr>\n",
              "    <tr>\n",
              "      <th>DC</th>\n",
              "      <td>0.017193</td>\n",
              "      <td>0.010352</td>\n",
              "    </tr>\n",
              "    <tr>\n",
              "      <th>DE</th>\n",
              "      <td>0.018246</td>\n",
              "      <td>0.018634</td>\n",
              "    </tr>\n",
              "    <tr>\n",
              "      <th>FL</th>\n",
              "      <td>0.019298</td>\n",
              "      <td>0.016563</td>\n",
              "    </tr>\n",
              "    <tr>\n",
              "      <th>GA</th>\n",
              "      <td>0.016140</td>\n",
              "      <td>0.016563</td>\n",
              "    </tr>\n",
              "    <tr>\n",
              "      <th>HI</th>\n",
              "      <td>0.017544</td>\n",
              "      <td>0.006211</td>\n",
              "    </tr>\n",
              "    <tr>\n",
              "      <th>IA</th>\n",
              "      <td>0.014386</td>\n",
              "      <td>0.006211</td>\n",
              "    </tr>\n",
              "    <tr>\n",
              "      <th>ID</th>\n",
              "      <td>0.022456</td>\n",
              "      <td>0.018634</td>\n",
              "    </tr>\n",
              "    <tr>\n",
              "      <th>IL</th>\n",
              "      <td>0.018596</td>\n",
              "      <td>0.010352</td>\n",
              "    </tr>\n",
              "    <tr>\n",
              "      <th>IN</th>\n",
              "      <td>0.021754</td>\n",
              "      <td>0.018634</td>\n",
              "    </tr>\n",
              "    <tr>\n",
              "      <th>KS</th>\n",
              "      <td>0.020000</td>\n",
              "      <td>0.026915</td>\n",
              "    </tr>\n",
              "    <tr>\n",
              "      <th>KY</th>\n",
              "      <td>0.017895</td>\n",
              "      <td>0.016563</td>\n",
              "    </tr>\n",
              "    <tr>\n",
              "      <th>LA</th>\n",
              "      <td>0.016491</td>\n",
              "      <td>0.008282</td>\n",
              "    </tr>\n",
              "    <tr>\n",
              "      <th>MA</th>\n",
              "      <td>0.018947</td>\n",
              "      <td>0.022774</td>\n",
              "    </tr>\n",
              "    <tr>\n",
              "      <th>MD</th>\n",
              "      <td>0.018596</td>\n",
              "      <td>0.035197</td>\n",
              "    </tr>\n",
              "    <tr>\n",
              "      <th>ME</th>\n",
              "      <td>0.017193</td>\n",
              "      <td>0.026915</td>\n",
              "    </tr>\n",
              "    <tr>\n",
              "      <th>MI</th>\n",
              "      <td>0.020000</td>\n",
              "      <td>0.033126</td>\n",
              "    </tr>\n",
              "    <tr>\n",
              "      <th>MN</th>\n",
              "      <td>0.024211</td>\n",
              "      <td>0.031056</td>\n",
              "    </tr>\n",
              "    <tr>\n",
              "      <th>MO</th>\n",
              "      <td>0.019649</td>\n",
              "      <td>0.014493</td>\n",
              "    </tr>\n",
              "    <tr>\n",
              "      <th>MS</th>\n",
              "      <td>0.017895</td>\n",
              "      <td>0.028986</td>\n",
              "    </tr>\n",
              "    <tr>\n",
              "      <th>MT</th>\n",
              "      <td>0.018947</td>\n",
              "      <td>0.028986</td>\n",
              "    </tr>\n",
              "    <tr>\n",
              "      <th>NC</th>\n",
              "      <td>0.020000</td>\n",
              "      <td>0.022774</td>\n",
              "    </tr>\n",
              "    <tr>\n",
              "      <th>ND</th>\n",
              "      <td>0.019649</td>\n",
              "      <td>0.012422</td>\n",
              "    </tr>\n",
              "    <tr>\n",
              "      <th>NE</th>\n",
              "      <td>0.019649</td>\n",
              "      <td>0.010352</td>\n",
              "    </tr>\n",
              "    <tr>\n",
              "      <th>NH</th>\n",
              "      <td>0.016491</td>\n",
              "      <td>0.018634</td>\n",
              "    </tr>\n",
              "    <tr>\n",
              "      <th>NJ</th>\n",
              "      <td>0.017544</td>\n",
              "      <td>0.037267</td>\n",
              "    </tr>\n",
              "    <tr>\n",
              "      <th>NM</th>\n",
              "      <td>0.019649</td>\n",
              "      <td>0.012422</td>\n",
              "    </tr>\n",
              "    <tr>\n",
              "      <th>NV</th>\n",
              "      <td>0.018246</td>\n",
              "      <td>0.028986</td>\n",
              "    </tr>\n",
              "    <tr>\n",
              "      <th>NY</th>\n",
              "      <td>0.023860</td>\n",
              "      <td>0.031056</td>\n",
              "    </tr>\n",
              "    <tr>\n",
              "      <th>OH</th>\n",
              "      <td>0.023860</td>\n",
              "      <td>0.020704</td>\n",
              "    </tr>\n",
              "    <tr>\n",
              "      <th>OK</th>\n",
              "      <td>0.018246</td>\n",
              "      <td>0.018634</td>\n",
              "    </tr>\n",
              "    <tr>\n",
              "      <th>OR</th>\n",
              "      <td>0.023509</td>\n",
              "      <td>0.022774</td>\n",
              "    </tr>\n",
              "    <tr>\n",
              "      <th>PA</th>\n",
              "      <td>0.012982</td>\n",
              "      <td>0.016563</td>\n",
              "    </tr>\n",
              "    <tr>\n",
              "      <th>RI</th>\n",
              "      <td>0.020702</td>\n",
              "      <td>0.012422</td>\n",
              "    </tr>\n",
              "    <tr>\n",
              "      <th>SC</th>\n",
              "      <td>0.016140</td>\n",
              "      <td>0.028986</td>\n",
              "    </tr>\n",
              "    <tr>\n",
              "      <th>SD</th>\n",
              "      <td>0.018246</td>\n",
              "      <td>0.016563</td>\n",
              "    </tr>\n",
              "    <tr>\n",
              "      <th>TN</th>\n",
              "      <td>0.016842</td>\n",
              "      <td>0.010352</td>\n",
              "    </tr>\n",
              "    <tr>\n",
              "      <th>TX</th>\n",
              "      <td>0.018947</td>\n",
              "      <td>0.037267</td>\n",
              "    </tr>\n",
              "    <tr>\n",
              "      <th>UT</th>\n",
              "      <td>0.021754</td>\n",
              "      <td>0.020704</td>\n",
              "    </tr>\n",
              "    <tr>\n",
              "      <th>VA</th>\n",
              "      <td>0.025263</td>\n",
              "      <td>0.010352</td>\n",
              "    </tr>\n",
              "    <tr>\n",
              "      <th>VT</th>\n",
              "      <td>0.022807</td>\n",
              "      <td>0.016563</td>\n",
              "    </tr>\n",
              "    <tr>\n",
              "      <th>WA</th>\n",
              "      <td>0.018246</td>\n",
              "      <td>0.028986</td>\n",
              "    </tr>\n",
              "    <tr>\n",
              "      <th>WI</th>\n",
              "      <td>0.024912</td>\n",
              "      <td>0.014493</td>\n",
              "    </tr>\n",
              "    <tr>\n",
              "      <th>WV</th>\n",
              "      <td>0.033684</td>\n",
              "      <td>0.020704</td>\n",
              "    </tr>\n",
              "    <tr>\n",
              "      <th>WY</th>\n",
              "      <td>0.023860</td>\n",
              "      <td>0.018634</td>\n",
              "    </tr>\n",
              "  </tbody>\n",
              "</table>\n",
              "</div>"
            ],
            "text/plain": [
              "Churn?    False.     True.\n",
              "State                     \n",
              "AK      0.017193  0.006211\n",
              "AL      0.025263  0.016563\n",
              "AR      0.015439  0.022774\n",
              "AZ      0.021053  0.008282\n",
              "CA      0.008772  0.018634\n",
              "CO      0.020000  0.018634\n",
              "CT      0.021754  0.024845\n",
              "DC      0.017193  0.010352\n",
              "DE      0.018246  0.018634\n",
              "FL      0.019298  0.016563\n",
              "GA      0.016140  0.016563\n",
              "HI      0.017544  0.006211\n",
              "IA      0.014386  0.006211\n",
              "ID      0.022456  0.018634\n",
              "IL      0.018596  0.010352\n",
              "IN      0.021754  0.018634\n",
              "KS      0.020000  0.026915\n",
              "KY      0.017895  0.016563\n",
              "LA      0.016491  0.008282\n",
              "MA      0.018947  0.022774\n",
              "MD      0.018596  0.035197\n",
              "ME      0.017193  0.026915\n",
              "MI      0.020000  0.033126\n",
              "MN      0.024211  0.031056\n",
              "MO      0.019649  0.014493\n",
              "MS      0.017895  0.028986\n",
              "MT      0.018947  0.028986\n",
              "NC      0.020000  0.022774\n",
              "ND      0.019649  0.012422\n",
              "NE      0.019649  0.010352\n",
              "NH      0.016491  0.018634\n",
              "NJ      0.017544  0.037267\n",
              "NM      0.019649  0.012422\n",
              "NV      0.018246  0.028986\n",
              "NY      0.023860  0.031056\n",
              "OH      0.023860  0.020704\n",
              "OK      0.018246  0.018634\n",
              "OR      0.023509  0.022774\n",
              "PA      0.012982  0.016563\n",
              "RI      0.020702  0.012422\n",
              "SC      0.016140  0.028986\n",
              "SD      0.018246  0.016563\n",
              "TN      0.016842  0.010352\n",
              "TX      0.018947  0.037267\n",
              "UT      0.021754  0.020704\n",
              "VA      0.025263  0.010352\n",
              "VT      0.022807  0.016563\n",
              "WA      0.018246  0.028986\n",
              "WI      0.024912  0.014493\n",
              "WV      0.033684  0.020704\n",
              "WY      0.023860  0.018634"
            ]
          },
          "metadata": {
            "tags": []
          }
        },
        {
          "output_type": "display_data",
          "data": {
            "text/html": [
              "<div>\n",
              "<style scoped>\n",
              "    .dataframe tbody tr th:only-of-type {\n",
              "        vertical-align: middle;\n",
              "    }\n",
              "\n",
              "    .dataframe tbody tr th {\n",
              "        vertical-align: top;\n",
              "    }\n",
              "\n",
              "    .dataframe thead th {\n",
              "        text-align: right;\n",
              "    }\n",
              "</style>\n",
              "<table border=\"1\" class=\"dataframe\">\n",
              "  <thead>\n",
              "    <tr style=\"text-align: right;\">\n",
              "      <th>Churn?</th>\n",
              "      <th>False.</th>\n",
              "      <th>True.</th>\n",
              "    </tr>\n",
              "    <tr>\n",
              "      <th>Area Code</th>\n",
              "      <th></th>\n",
              "      <th></th>\n",
              "    </tr>\n",
              "  </thead>\n",
              "  <tbody>\n",
              "    <tr>\n",
              "      <th>408</th>\n",
              "      <td>0.251228</td>\n",
              "      <td>0.252588</td>\n",
              "    </tr>\n",
              "    <tr>\n",
              "      <th>415</th>\n",
              "      <td>0.497895</td>\n",
              "      <td>0.488613</td>\n",
              "    </tr>\n",
              "    <tr>\n",
              "      <th>510</th>\n",
              "      <td>0.250877</td>\n",
              "      <td>0.258799</td>\n",
              "    </tr>\n",
              "  </tbody>\n",
              "</table>\n",
              "</div>"
            ],
            "text/plain": [
              "Churn?       False.     True.\n",
              "Area Code                    \n",
              "408        0.251228  0.252588\n",
              "415        0.497895  0.488613\n",
              "510        0.250877  0.258799"
            ]
          },
          "metadata": {
            "tags": []
          }
        },
        {
          "output_type": "display_data",
          "data": {
            "text/html": [
              "<div>\n",
              "<style scoped>\n",
              "    .dataframe tbody tr th:only-of-type {\n",
              "        vertical-align: middle;\n",
              "    }\n",
              "\n",
              "    .dataframe tbody tr th {\n",
              "        vertical-align: top;\n",
              "    }\n",
              "\n",
              "    .dataframe thead th {\n",
              "        text-align: right;\n",
              "    }\n",
              "</style>\n",
              "<table border=\"1\" class=\"dataframe\">\n",
              "  <thead>\n",
              "    <tr style=\"text-align: right;\">\n",
              "      <th>Churn?</th>\n",
              "      <th>False.</th>\n",
              "      <th>True.</th>\n",
              "    </tr>\n",
              "    <tr>\n",
              "      <th>Int'l Plan</th>\n",
              "      <th></th>\n",
              "      <th></th>\n",
              "    </tr>\n",
              "  </thead>\n",
              "  <tbody>\n",
              "    <tr>\n",
              "      <th>no</th>\n",
              "      <td>0.934737</td>\n",
              "      <td>0.716356</td>\n",
              "    </tr>\n",
              "    <tr>\n",
              "      <th>yes</th>\n",
              "      <td>0.065263</td>\n",
              "      <td>0.283644</td>\n",
              "    </tr>\n",
              "  </tbody>\n",
              "</table>\n",
              "</div>"
            ],
            "text/plain": [
              "Churn?        False.     True.\n",
              "Int'l Plan                    \n",
              "no          0.934737  0.716356\n",
              "yes         0.065263  0.283644"
            ]
          },
          "metadata": {
            "tags": []
          }
        },
        {
          "output_type": "display_data",
          "data": {
            "text/html": [
              "<div>\n",
              "<style scoped>\n",
              "    .dataframe tbody tr th:only-of-type {\n",
              "        vertical-align: middle;\n",
              "    }\n",
              "\n",
              "    .dataframe tbody tr th {\n",
              "        vertical-align: top;\n",
              "    }\n",
              "\n",
              "    .dataframe thead th {\n",
              "        text-align: right;\n",
              "    }\n",
              "</style>\n",
              "<table border=\"1\" class=\"dataframe\">\n",
              "  <thead>\n",
              "    <tr style=\"text-align: right;\">\n",
              "      <th>Churn?</th>\n",
              "      <th>False.</th>\n",
              "      <th>True.</th>\n",
              "    </tr>\n",
              "    <tr>\n",
              "      <th>VMail Plan</th>\n",
              "      <th></th>\n",
              "      <th></th>\n",
              "    </tr>\n",
              "  </thead>\n",
              "  <tbody>\n",
              "    <tr>\n",
              "      <th>no</th>\n",
              "      <td>0.704561</td>\n",
              "      <td>0.834369</td>\n",
              "    </tr>\n",
              "    <tr>\n",
              "      <th>yes</th>\n",
              "      <td>0.295439</td>\n",
              "      <td>0.165631</td>\n",
              "    </tr>\n",
              "  </tbody>\n",
              "</table>\n",
              "</div>"
            ],
            "text/plain": [
              "Churn?        False.     True.\n",
              "VMail Plan                    \n",
              "no          0.704561  0.834369\n",
              "yes         0.295439  0.165631"
            ]
          },
          "metadata": {
            "tags": []
          }
        },
        {
          "output_type": "stream",
          "text": [
            "Account Length\n"
          ],
          "name": "stdout"
        },
        {
          "output_type": "display_data",
          "data": {
            "image/png": "[encoded data removed]",
            "text/plain": [
              "<Figure size 432x288 with 2 Axes>"
            ]
          },
          "metadata": {
            "tags": [],
            "needs_background": "light"
          }
        },
        {
          "output_type": "stream",
          "text": [
            "VMail Message\n"
          ],
          "name": "stdout"
        },
        {
          "output_type": "display_data",
          "data": {
            "image/png": "[encoded data removed]",
            "text/plain": [
              "<Figure size 432x288 with 2 Axes>"
            ]
          },
          "metadata": {
            "tags": [],
            "needs_background": "light"
          }
        },
        {
          "output_type": "stream",
          "text": [
            "Day Mins\n"
          ],
          "name": "stdout"
        },
        {
          "output_type": "display_data",
          "data": {
            "image/png": "[encoded data removed]",
            "text/plain": [
              "<Figure size 432x288 with 2 Axes>"
            ]
          },
          "metadata": {
            "tags": [],
            "needs_background": "light"
          }
        },
        {
          "output_type": "stream",
          "text": [
            "Day Calls\n"
          ],
          "name": "stdout"
        },
        {
          "output_type": "display_data",
          "data": {
            "image/png": "[encoded data removed]",
            "text/plain": [
              "<Figure size 432x288 with 2 Axes>"
            ]
          },
          "metadata": {
            "tags": [],
            "needs_background": "light"
          }
        },
        {
          "output_type": "stream",
          "text": [
            "Day Charge\n"
          ],
          "name": "stdout"
        },
        {
          "output_type": "display_data",
          "data": {
            "image/png": "[encoded data removed]",
            "text/plain": [
              "<Figure size 432x288 with 2 Axes>"
            ]
          },
          "metadata": {
            "tags": [],
            "needs_background": "light"
          }
        },
        {
          "output_type": "stream",
          "text": [
            "Eve Mins\n"
          ],
          "name": "stdout"
        },
        {
          "output_type": "display_data",
          "data": {
            "image/png": "[encoded data removed]",
            "text/plain": [
              "<Figure size 432x288 with 2 Axes>"
            ]
          },
          "metadata": {
            "tags": [],
            "needs_background": "light"
          }
        },
        {
          "output_type": "stream",
          "text": [
            "Eve Calls\n"
          ],
          "name": "stdout"
        },
        {
          "output_type": "display_data",
          "data": {
            "image/png": "[encoded data removed]",
            "text/plain": [
              "<Figure size 432x288 with 2 Axes>"
            ]
          },
          "metadata": {
            "tags": [],
            "needs_background": "light"
          }
        },
        {
          "output_type": "stream",
          "text": [
            "Eve Charge\n"
          ],
          "name": "stdout"
        },
        {
          "output_type": "display_data",
          "data": {
            "image/png": "[encoded data removed]",
            "text/plain": [
              "<Figure size 432x288 with 2 Axes>"
            ]
          },
          "metadata": {
            "tags": [],
            "needs_background": "light"
          }
        },
        {
          "output_type": "stream",
          "text": [
            "Night Mins\n"
          ],
          "name": "stdout"
        },
        {
          "output_type": "display_data",
          "data": {
            "image/png": "[encoded data removed]",
            "text/plain": [
              "<Figure size 432x288 with 2 Axes>"
            ]
          },
          "metadata": {
            "tags": [],
            "needs_background": "light"
          }
        },
        {
          "output_type": "stream",
          "text": [
            "Night Calls\n"
          ],
          "name": "stdout"
        },
        {
          "output_type": "display_data",
          "data": {
            "image/png": "[encoded data removed]",
            "text/plain": [
              "<Figure size 432x288 with 2 Axes>"
            ]
          },
          "metadata": {
            "tags": [],
            "needs_background": "light"
          }
        },
        {
          "output_type": "stream",
          "text": [
            "Night Charge\n"
          ],
          "name": "stdout"
        },
        {
          "output_type": "display_data",
          "data": {
            "image/png": "[encoded data removed]",
            "text/plain": [
              "<Figure size 432x288 with 2 Axes>"
            ]
          },
          "metadata": {
            "tags": [],
            "needs_background": "light"
          }
        },
        {
          "output_type": "stream",
          "text": [
            "Intl Mins\n"
          ],
          "name": "stdout"
        },
        {
          "output_type": "display_data",
          "data": {
            "image/png": "[encoded data removed]",
            "text/plain": [
              "<Figure size 432x288 with 2 Axes>"
            ]
          },
          "metadata": {
            "tags": [],
            "needs_background": "light"
          }
        },
        {
          "output_type": "stream",
          "text": [
            "Intl Calls\n"
          ],
          "name": "stdout"
        },
        {
          "output_type": "display_data",
          "data": {
            "image/png": "[encoded data removed]",
            "text/plain": [
              "<Figure size 432x288 with 2 Axes>"
            ]
          },
          "metadata": {
            "tags": [],
            "needs_background": "light"
          }
        },
        {
          "output_type": "stream",
          "text": [
            "Intl Charge\n"
          ],
          "name": "stdout"
        },
        {
          "output_type": "display_data",
          "data": {
            "image/png": "[encoded data removed]",
            "text/plain": [
              "<Figure size 432x288 with 2 Axes>"
            ]
          },
          "metadata": {
            "tags": [],
            "needs_background": "light"
          }
        },
        {
          "output_type": "stream",
          "text": [
            "CustServ Calls\n"
          ],
          "name": "stdout"
        },
        {
          "output_type": "display_data",
          "data": {
            "image/png": "[encoded data removed]",
            "text/plain": [
              "<Figure size 432x288 with 2 Axes>"
            ]
          },
          "metadata": {
            "tags": [],
            "needs_background": "light"
          }
        }
      ]
    },
    {
      "cell_type": "markdown",
      "metadata": {
        "id": "Ln5lA1Q1YQSQ",
        "colab_type": "text"
      },
      "source": [
        "### Feature Engineering\n",
        "Based on the histograms, we conclude that features Day Charge, Eve Charge, Night Charge, Intl Charge have no impact on predicting Churn rate"
      ]
    },
    {
      "cell_type": "code",
      "metadata": {
        "id": "LJm2yIWR1FpV",
        "colab_type": "code",
        "colab": {}
      },
      "source": [
        "churn = churn.drop(['Day Charge', 'Eve Charge', 'Night Charge', 'Intl Charge'], axis=1)"
      ],
      "execution_count": 10,
      "outputs": []
    },
    {
      "cell_type": "markdown",
      "metadata": {
        "id": "DoQTSxuqTYHd",
        "colab_type": "text"
      },
      "source": [
        "### One-hot encoding\n",
        "Converting categorical values into numerical values"
      ]
    },
    {
      "cell_type": "code",
      "metadata": {
        "id": "T8F9opCQ1LJO",
        "colab_type": "code",
        "colab": {}
      },
      "source": [
        "model_data = pd.get_dummies(churn)"
      ],
      "execution_count": 16,
      "outputs": []
    },
    {
      "cell_type": "code",
      "metadata": {
        "id": "OUKi9wiO1PN-",
        "colab_type": "code",
        "colab": {}
      },
      "source": [
        "model_data = pd.concat([model_data['Churn?_True.'], model_data.drop(['Churn?_False.', 'Churn?_True.'],axis=1)], axis=1)"
      ],
      "execution_count": 17,
      "outputs": []
    },
    {
      "cell_type": "markdown",
      "metadata": {
        "id": "SugBB8hrTvHr",
        "colab_type": "text"
      },
      "source": [
        "### Splitting dataset to Train, Validation & Test data\n",
        "\n",
        "1.  Numpy libraries split the original dataset into three categories(Train, Validation, and Test).\n",
        "2.  We have to convert numpy arrays into CSV format.\n",
        "\n",
        "\n",
        "\n"
      ]
    },
    {
      "cell_type": "code",
      "metadata": {
        "id": "oubMIxyj1V8g",
        "colab_type": "code",
        "colab": {}
      },
      "source": [
        "train_data, validation_data, test_data = np.split(model_data.sample(frac=1, random_state=1729), [int(0.7 * len(model_data)), int(0.9 * len(model_data))])"
      ],
      "execution_count": 18,
      "outputs": []
    },
    {
      "cell_type": "code",
      "metadata": {
        "id": "Jl151WcB1emp",
        "colab_type": "code",
        "colab": {}
      },
      "source": [
        "train_data.to_csv('train.csv')"
      ],
      "execution_count": 19,
      "outputs": []
    },
    {
      "cell_type": "code",
      "metadata": {
        "id": "oPD0iOsk1glS",
        "colab_type": "code",
        "colab": {}
      },
      "source": [
        "train_df = pd.read_csv('./train.csv')"
      ],
      "execution_count": 20,
      "outputs": []
    },
    {
      "cell_type": "code",
      "metadata": {
        "id": "kbBNMimx1kbz",
        "colab_type": "code",
        "colab": {}
      },
      "source": [
        "validation_data.to_csv('validation.csv')"
      ],
      "execution_count": 21,
      "outputs": []
    },
    {
      "cell_type": "code",
      "metadata": {
        "id": "d-lt4PWl1pfD",
        "colab_type": "code",
        "colab": {}
      },
      "source": [
        "validation_df = pd.read_csv('./validation.csv')"
      ],
      "execution_count": 22,
      "outputs": []
    },
    {
      "cell_type": "code",
      "metadata": {
        "id": "au_3gOw_YsbR",
        "colab_type": "code",
        "colab": {}
      },
      "source": [
        "test_data.to_csv('test.csv')"
      ],
      "execution_count": 23,
      "outputs": []
    },
    {
      "cell_type": "code",
      "metadata": {
        "id": "I18gL57YYv9-",
        "colab_type": "code",
        "colab": {}
      },
      "source": [
        "test_df = pd.read_csv('./test.csv')"
      ],
      "execution_count": 24,
      "outputs": []
    },
    {
      "cell_type": "markdown",
      "metadata": {
        "id": "tvdHBqIGY4fw",
        "colab_type": "text"
      },
      "source": [
        "## XGBOOST Parameters\n",
        "\n",
        "There are three types of parameters for XGBoost we have to set before training\n",
        "\n",
        "*   General Parameters: This relates to which booster we are using.\n",
        "*  Booster Parameters: These are the parameters which vary based on the booster you chose.\n",
        "*   Learning Task Parameters: These are the parameters needed for learning. These vary based on the learning mechanism, Classification, Regression or Ranking.\n",
        "*   Command Line Parameters: These are the parameters which are used to control the IO of the model resources.\n",
        "\n",
        "1.   num_round = The number of rounds for boosting\n",
        "2.   Max_depth= Max depth of tree. Higher value of this parameter will make the model more complex.\n",
        "1.   ETA= Step size shrinkage. This is used to prevent overfitting. After every boosting step, we can directly get the weights of new features and eta shrinks the feature weights to make the boosting process more conservative\n",
        "2.   Objective: This is the learning objective. This parameter varies based on the learning task(Classification, Regression, Ranking)\n",
        "5.   Eval_metric: Evaluation metrics for validation.\n",
        "\n",
        "\n",
        "\n",
        "\n",
        "\n",
        "\n",
        "\n",
        "Define parameters"
      ]
    },
    {
      "cell_type": "code",
      "metadata": {
        "id": "XfJw74I-1rdM",
        "colab_type": "code",
        "colab": {}
      },
      "source": [
        "num_round = 10"
      ],
      "execution_count": 25,
      "outputs": []
    },
    {
      "cell_type": "code",
      "metadata": {
        "id": "zamwuhGk1tZd",
        "colab_type": "code",
        "colab": {}
      },
      "source": [
        "param = {'max_depth':3, 'eta': 1, 'objective': 'binary:logistic', 'eval_metric': 'auc'}"
      ],
      "execution_count": 26,
      "outputs": []
    },
    {
      "cell_type": "markdown",
      "metadata": {
        "id": "QbeOjBBNZK75",
        "colab_type": "text"
      },
      "source": [
        "### Converting Pandas dataframe to Xgboost DMatrix\n",
        "Here we are converting csv data into XGBoost DBMatrix, and identifying the target variable column. "
      ]
    },
    {
      "cell_type": "code",
      "metadata": {
        "id": "GN2kgV4v1vf2",
        "colab_type": "code",
        "colab": {
          "base_uri": "https://localhost:8080/",
          "height": 34
        },
        "outputId": "e382d0c6-c0fa-4c66-c370-5b5a0cf1d1a2"
      },
      "source": [
        "dtrain = xgb.DMatrix('train.csv?format=csv&label_column=1')"
      ],
      "execution_count": 27,
      "outputs": [
        {
          "output_type": "stream",
          "text": [
            "[17:17:14] 2334x70 matrix with 163380 entries loaded from train.csv?format=csv&label_column=1\n"
          ],
          "name": "stdout"
        }
      ]
    },
    {
      "cell_type": "code",
      "metadata": {
        "id": "NXqsWlSu1xP9",
        "colab_type": "code",
        "colab": {
          "base_uri": "https://localhost:8080/",
          "height": 34
        },
        "outputId": "a65a457f-2fc3-4875-9854-c043dfc5394d"
      },
      "source": [
        "dvalid = xgb.DMatrix('validation.csv?format=csv&label_column=1')"
      ],
      "execution_count": 28,
      "outputs": [
        {
          "output_type": "stream",
          "text": [
            "[17:17:20] 667x70 matrix with 46690 entries loaded from validation.csv?format=csv&label_column=1\n"
          ],
          "name": "stdout"
        }
      ]
    },
    {
      "cell_type": "code",
      "metadata": {
        "id": "ODod8YyA16zX",
        "colab_type": "code",
        "colab": {
          "base_uri": "https://localhost:8080/",
          "height": 34
        },
        "outputId": "7cd15b96-7729-4c9d-cf6c-8dc1b20f128d"
      },
      "source": [
        "dtest = dtest = xgb.DMatrix('test.csv?format=csv&label_column=1')"
      ],
      "execution_count": 29,
      "outputs": [
        {
          "output_type": "stream",
          "text": [
            "[17:17:25] 335x70 matrix with 23450 entries loaded from test.csv?format=csv&label_column=1\n"
          ],
          "name": "stdout"
        }
      ]
    },
    {
      "cell_type": "code",
      "metadata": {
        "id": "8b1eACTz1-l4",
        "colab_type": "code",
        "colab": {}
      },
      "source": [
        "evallist = [(dvalid, 'eval'), (dtrain, 'train')]"
      ],
      "execution_count": 30,
      "outputs": []
    },
    {
      "cell_type": "markdown",
      "metadata": {
        "id": "swGIHlQuZpI_",
        "colab_type": "text"
      },
      "source": [
        "### XGBoost Training\n",
        "\n",
        "The train method is used to train, and based on the num_round parmeters, we will get our eval_metric AUC for both Train and validation datasets. As you can see the AUC for training is 96% and for Validation dataset is 86%"
      ]
    },
    {
      "cell_type": "code",
      "metadata": {
        "id": "LFe7Dss42AcY",
        "colab_type": "code",
        "colab": {
          "base_uri": "https://localhost:8080/",
          "height": 187
        },
        "outputId": "6f3d9a76-ef09-4f47-f7a0-2ee734f81789"
      },
      "source": [
        "bst = xgb.train(param, dtrain, num_round, evallist)"
      ],
      "execution_count": 31,
      "outputs": [
        {
          "output_type": "stream",
          "text": [
            "[0]\teval-auc:0.791782\ttrain-auc:0.848785\n",
            "[1]\teval-auc:0.855386\ttrain-auc:0.909337\n",
            "[2]\teval-auc:0.870793\ttrain-auc:0.926645\n",
            "[3]\teval-auc:0.874115\ttrain-auc:0.936856\n",
            "[4]\teval-auc:0.882716\ttrain-auc:0.951634\n",
            "[5]\teval-auc:0.87857\ttrain-auc:0.955284\n",
            "[6]\teval-auc:0.885923\ttrain-auc:0.957537\n",
            "[7]\teval-auc:0.885025\ttrain-auc:0.959766\n",
            "[8]\teval-auc:0.872327\ttrain-auc:0.967652\n",
            "[9]\teval-auc:0.86451\ttrain-auc:0.967714\n"
          ],
          "name": "stdout"
        }
      ]
    },
    {
      "cell_type": "markdown",
      "metadata": {
        "id": "CZwYXkbeZvFM",
        "colab_type": "text"
      },
      "source": [
        "### Save Model and dump the model"
      ]
    },
    {
      "cell_type": "code",
      "metadata": {
        "id": "KSZoIrPp2CVZ",
        "colab_type": "code",
        "colab": {}
      },
      "source": [
        "bst.save_model('0001.model')"
      ],
      "execution_count": 32,
      "outputs": []
    },
    {
      "cell_type": "code",
      "metadata": {
        "id": "VzJvRNqD2JZh",
        "colab_type": "code",
        "colab": {}
      },
      "source": [
        "bst.dump_model('dump.raw.txt')"
      ],
      "execution_count": 36,
      "outputs": []
    },
    {
      "cell_type": "markdown",
      "metadata": {
        "id": "_kmp2f1fZ5MV",
        "colab_type": "text"
      },
      "source": [
        "### XGBoost Predictions"
      ]
    },
    {
      "cell_type": "code",
      "metadata": {
        "id": "qk5UWwQ42LW5",
        "colab_type": "code",
        "colab": {}
      },
      "source": [
        "ypred = bst.predict(dtest)"
      ],
      "execution_count": 38,
      "outputs": []
    },
    {
      "cell_type": "code",
      "metadata": {
        "id": "VlgKM2LP2NLy",
        "colab_type": "code",
        "colab": {
          "base_uri": "https://localhost:8080/",
          "height": 969
        },
        "outputId": "aa88664f-9583-4f97-d2f3-a680263ec251"
      },
      "source": [
        "print(ypred)"
      ],
      "execution_count": 39,
      "outputs": [
        {
          "output_type": "stream",
          "text": [
            "[0.03017637 0.00979576 0.00385541 0.00691016 0.29032022 0.00691016\n",
            " 0.011225   0.45164788 0.00979576 0.06096351 0.00446468 0.04834396\n",
            " 0.01994255 0.00385541 0.04882845 0.0158836  0.00580743 0.0952007\n",
            " 0.02609231 0.36871427 0.04877605 0.02311784 0.61140335 0.01977573\n",
            " 0.0158836  0.011225   0.01101333 0.00691016 0.99941766 0.0158836\n",
            " 0.02262757 0.01399165 0.01035381 0.01059169 0.00385541 0.01165892\n",
            " 0.5947194  0.0158836  0.0051297  0.03510007 0.04470418 0.01530986\n",
            " 0.10870663 0.01059169 0.00716025 0.00979576 0.9179888  0.01056115\n",
            " 0.02262757 0.07894392 0.01365522 0.0290805  0.0158836  0.0245402\n",
            " 0.02262757 0.4159592  0.00651868 0.00627485 0.22809084 0.08696859\n",
            " 0.05679083 0.12132574 0.00758099 0.07055785 0.02672626 0.02311784\n",
            " 0.05532948 0.01230951 0.00385541 0.01078372 0.00781594 0.00979576\n",
            " 0.19783723 0.0234918  0.01011122 0.0952007  0.8426346  0.46594793\n",
            " 0.03087211 0.00781594 0.011225   0.04550414 0.01056115 0.01317891\n",
            " 0.011225   0.06705781 0.90246516 0.04806277 0.00385541 0.0188826\n",
            " 0.00691016 0.00691016 0.21592085 0.01113799 0.00712623 0.01698456\n",
            " 0.01011795 0.9490139  0.04550414 0.83008957 0.01374471 0.00979576\n",
            " 0.011225   0.02100649 0.01794438 0.0460389  0.87834007 0.14889897\n",
            " 0.00437099 0.01399165 0.03202158 0.00385541 0.06777381 0.01399165\n",
            " 0.00781594 0.011225   0.00691016 0.01028628 0.01711645 0.83989185\n",
            " 0.01399165 0.01711645 0.3954595  0.03862214 0.011225   0.0158836\n",
            " 0.01804481 0.03005645 0.89450073 0.9779212  0.011225   0.04369742\n",
            " 0.04182396 0.01482479 0.00894428 0.011225   0.04434022 0.0028267\n",
            " 0.7655072  0.02128959 0.1456529  0.00979576 0.0158836  0.00843855\n",
            " 0.91368014 0.011225   0.011225   0.02546091 0.01028628 0.00691016\n",
            " 0.01811915 0.02311784 0.00691016 0.07848635 0.011225   0.84380794\n",
            " 0.00385541 0.00969472 0.04609142 0.86858714 0.01499425 0.011225\n",
            " 0.6856809  0.02191532 0.00691016 0.04550414 0.00979576 0.0158836\n",
            " 0.02663367 0.02311784 0.13897212 0.01946629 0.01711645 0.011225\n",
            " 0.00979576 0.9534724  0.9112239  0.011225   0.00632997 0.03503011\n",
            " 0.01711645 0.01294788 0.00843855 0.00627485 0.9931536  0.01507674\n",
            " 0.39768407 0.011225   0.01494841 0.011225   0.13012443 0.00248829\n",
            " 0.00691016 0.06814703 0.00979576 0.01113799 0.07075405 0.29276186\n",
            " 0.99537694 0.01542719 0.01482479 0.00979576 0.01494841 0.00691016\n",
            " 0.04842715 0.01028628 0.01056115 0.01299195 0.07444432 0.01482479\n",
            " 0.40688357 0.79038876 0.01056115 0.04241354 0.02396244 0.01113799\n",
            " 0.01056115 0.00781594 0.2411553  0.0952007  0.04629676 0.96672094\n",
            " 0.01569287 0.00691016 0.02311784 0.02262757 0.00691016 0.0180724\n",
            " 0.90949124 0.53908426 0.02416038 0.011225   0.00431241 0.02437257\n",
            " 0.22041854 0.39768407 0.9118936  0.88966095 0.011225   0.02672626\n",
            " 0.02004699 0.7314138  0.01056115 0.01711645 0.02262757 0.00385541\n",
            " 0.00620289 0.0158836  0.01056115 0.011225   0.11567933 0.0385329\n",
            " 0.00651868 0.01542719 0.00691016 0.05764953 0.01056115 0.00691016\n",
            " 0.02191532 0.0952007  0.02621942 0.0269679  0.01056115 0.01637564\n",
            " 0.02382855 0.05823516 0.04550414 0.07037095 0.01703335 0.25030708\n",
            " 0.01107557 0.037186   0.9167424  0.8166273  0.25793812 0.00808118\n",
            " 0.00979576 0.01343423 0.00979576 0.011225   0.06332491 0.00385541\n",
            " 0.00385541 0.00423665 0.16639067 0.00691016 0.900864   0.0382941\n",
            " 0.98497427 0.01711645 0.01165892 0.02262757 0.0158836  0.0188826\n",
            " 0.9851892  0.42603654 0.01711645 0.03703816 0.00627002 0.01910604\n",
            " 0.02935829 0.04550414 0.02960309 0.00781594 0.932988   0.011225\n",
            " 0.1062339  0.03418589 0.00691016 0.0613996  0.02672626 0.02492675\n",
            " 0.3012897  0.011225   0.13012443 0.02100649 0.07164145 0.011225\n",
            " 0.26271585 0.91283435 0.10624518 0.1064392  0.0253554  0.14037263\n",
            " 0.03748187 0.19809818 0.99829084 0.01298105 0.00873854 0.9847867\n",
            " 0.011225   0.01494841 0.00385541 0.08786335 0.00385541]\n"
          ],
          "name": "stdout"
        }
      ]
    },
    {
      "cell_type": "markdown",
      "metadata": {
        "id": "rBzhAHTGaDNf",
        "colab_type": "text"
      },
      "source": [
        "### XGBoost Plotting Importance\n",
        "Here we are going to plot the importance of top 10 features."
      ]
    },
    {
      "cell_type": "code",
      "metadata": {
        "id": "s2Doj-rp2PNa",
        "colab_type": "code",
        "colab": {
          "base_uri": "https://localhost:8080/",
          "height": 312
        },
        "outputId": "e8709957-d8fb-4045-9491-f3c1bc0bca5d"
      },
      "source": [
        "xgb.plot_importance(bst, max_num_features=10)\n",
        "plt.rcParams['figure.figsize'] = [5,5]\n",
        "plt.show"
      ],
      "execution_count": 45,
      "outputs": [
        {
          "output_type": "execute_result",
          "data": {
            "text/plain": [
              "<function matplotlib.pyplot.show>"
            ]
          },
          "metadata": {
            "tags": []
          },
          "execution_count": 45
        },
        {
          "output_type": "display_data",
          "data": {
            "image/png": "[encoded data removed]",
            "text/plain": [
              "<Figure size 432x288 with 1 Axes>"
            ]
          },
          "metadata": {
            "tags": [],
            "needs_background": "light"
          }
        }
      ]
    },
    {
      "cell_type": "markdown",
      "metadata": {
        "id": "IB-slEwJaIpy",
        "colab_type": "text"
      },
      "source": [
        "### XGBoost Plotting Graphs\n",
        "\n",
        "Lets plot the tree here"
      ]
    },
    {
      "cell_type": "code",
      "metadata": {
        "id": "0hlMdm892StL",
        "colab_type": "code",
        "colab": {
          "base_uri": "https://localhost:8080/",
          "height": 253
        },
        "outputId": "93e56499-b375-4ee9-8657-99658c0927a9"
      },
      "source": [
        "xgb.plot_tree(bst,num_trees=1)\n",
        "fig = plt.gcf()\n",
        "fig.set_size_inches(18.5, 10.5)"
      ],
      "execution_count": 44,
      "outputs": [
        {
          "output_type": "display_data",
          "data": {
            "image/png": "[encoded data removed]",
            "text/plain": [
              "<Figure size 1332x756 with 1 Axes>"
            ]
          },
          "metadata": {
            "tags": [],
            "needs_background": "light"
          }
        }
      ]
    },
    {
      "cell_type": "code",
      "metadata": {
        "id": "BQXElx_FgNg_",
        "colab_type": "code",
        "colab": {}
      },
      "source": [
        ""
      ],
      "execution_count": null,
      "outputs": []
    }
  ]
}